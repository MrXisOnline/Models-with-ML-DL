{
  "cells": [
    {
      "cell_type": "markdown",
      "metadata": {
        "id": "view-in-github",
        "colab_type": "text"
      },
      "source": [
        "<a href=\"https://colab.research.google.com/github/MrXisOnline/Models-with-ML-DL/blob/master/sentiment_analysis.ipynb\" target=\"_parent\"><img src=\"https://colab.research.google.com/assets/colab-badge.svg\" alt=\"Open In Colab\"/></a>"
      ]
    },
    {
      "cell_type": "markdown",
      "source": [
        "### Loading Data"
      ],
      "metadata": {
        "id": "MvrehcyK61ln"
      }
    },
    {
      "cell_type": "code",
      "execution_count": null,
      "metadata": {
        "colab": {
          "base_uri": "https://localhost:8080/"
        },
        "id": "hmiAPWIIgx_j",
        "outputId": "76292ac9-fa33-4a70-de48-168ff655273a"
      },
      "outputs": [
        {
          "output_type": "stream",
          "name": "stdout",
          "text": [
            "Mounted at /content/drive\n",
            "Downloading twitter-entity-sentiment-analysis.zip to /content\n",
            "  0% 0.00/1.99M [00:00<?, ?B/s]\n",
            "100% 1.99M/1.99M [00:00<00:00, 153MB/s]\n",
            "Archive:  /content/twitter-entity-sentiment-analysis.zip\n",
            "  inflating: twitter_training.csv    \n",
            "  inflating: twitter_validation.csv  \n"
          ]
        }
      ],
      "source": [
        "from google.colab import drive\n",
        "drive.mount('/content/drive')\n",
        "!mkdir ~/.kaggle\n",
        "!cp /content/drive/MyDrive/kaggle/kaggle.json ~/.kaggle/\n",
        "!chmod 600 ~/.kaggle/kaggle.json\n",
        "!kaggle datasets download -d jp797498e/twitter-entity-sentiment-analysis\n",
        "!unzip /content/twitter-entity-sentiment-analysis.zip"
      ]
    },
    {
      "cell_type": "markdown",
      "source": [
        "### Process Data"
      ],
      "metadata": {
        "id": "-_LYuAzUK9Mz"
      }
    },
    {
      "cell_type": "code",
      "execution_count": null,
      "metadata": {
        "id": "4v7YcxxZhDaq"
      },
      "outputs": [],
      "source": [
        "import pandas as pd\n",
        "import numpy as np\n",
        "import tensorflow as tf\n",
        "from tensorflow import keras\n",
        "from tensorflow.keras import layers, Sequential\n",
        "import matplotlib.pyplot as plt\n",
        "import sklearn"
      ]
    },
    {
      "cell_type": "code",
      "execution_count": null,
      "metadata": {
        "id": "PjXqXXkNheMt"
      },
      "outputs": [],
      "source": [
        "train_df = pd.read_csv(\"/content/twitter_training.csv\")\n",
        "train_df.drop(train_df.columns[:2], axis=1, inplace=True)\n",
        "train_df.rename(columns={train_df.columns[0]: 'sentiment', train_df.columns[1]: 'tweet'}, \n",
        "                inplace=True, errors='raise')\n",
        "train_df.dropna(inplace=True)"
      ]
    },
    {
      "cell_type": "code",
      "source": [
        "simple_train_df = train_df[(train_df[\"sentiment\"] == \"Positive\") | (train_df[\"sentiment\"] == \"Negative\")]"
      ],
      "metadata": {
        "id": "OcT_hvcM-kyG"
      },
      "execution_count": null,
      "outputs": []
    },
    {
      "cell_type": "code",
      "execution_count": null,
      "metadata": {
        "id": "6QxvuxD63SA2"
      },
      "outputs": [],
      "source": [
        "sentiment_map = {k:i for i, k in enumerate(list(dict(simple_train_df[\"sentiment\"].value_counts()).keys()))}"
      ]
    },
    {
      "cell_type": "code",
      "execution_count": null,
      "metadata": {
        "id": "5tFiD6Z_78EZ",
        "colab": {
          "base_uri": "https://localhost:8080/"
        },
        "outputId": "f6269e47-aea2-4ce6-eea7-705d3c6f6138"
      },
      "outputs": [
        {
          "output_type": "stream",
          "name": "stderr",
          "text": [
            "/usr/local/lib/python3.7/dist-packages/pandas/core/generic.py:5516: SettingWithCopyWarning: \n",
            "A value is trying to be set on a copy of a slice from a DataFrame.\n",
            "Try using .loc[row_indexer,col_indexer] = value instead\n",
            "\n",
            "See the caveats in the documentation: https://pandas.pydata.org/pandas-docs/stable/user_guide/indexing.html#returning-a-view-versus-a-copy\n",
            "  self[name] = value\n"
          ]
        }
      ],
      "source": [
        "simple_train_df.sentiment = [sentiment_map[i] for i in simple_train_df.sentiment]"
      ]
    },
    {
      "cell_type": "code",
      "execution_count": null,
      "metadata": {
        "id": "bq7wfBu2_OO-"
      },
      "outputs": [],
      "source": [
        "tweets = simple_train_df.tweet.to_numpy()\n",
        "labels = simple_train_df.sentiment.to_numpy()"
      ]
    },
    {
      "cell_type": "code",
      "source": [
        "tweets.shape, labels.shape"
      ],
      "metadata": {
        "colab": {
          "base_uri": "https://localhost:8080/"
        },
        "id": "WvLzLuA7W-Vy",
        "outputId": "e4be1444-37a5-460b-b904-847c3cd44755"
      },
      "execution_count": null,
      "outputs": [
        {
          "output_type": "execute_result",
          "data": {
            "text/plain": [
              "((43012,), (43012,))"
            ]
          },
          "metadata": {},
          "execution_count": 8
        }
      ]
    },
    {
      "cell_type": "code",
      "source": [
        "def batch_tweets(data, labels):\n",
        "    ndata = np.empty((0,), dtype=object)\n",
        "    for i, tweet in enumerate(data):\n",
        "        ndata = np.append(ndata, [\"<sos> \" + tweet], axis=0)\n",
        "    return ndata[:-(len(ndata)%32)].reshape(len(ndata)//32, 32), labels[:-(len(labels)%32)].reshape(len(labels)//32, 32)"
      ],
      "metadata": {
        "id": "f_Ji-j8n09AS"
      },
      "execution_count": null,
      "outputs": []
    },
    {
      "cell_type": "code",
      "execution_count": null,
      "metadata": {
        "id": "dkiDCKkH_nbf"
      },
      "outputs": [],
      "source": [
        "max_sentence_length = 0\n",
        "def preprocess_string(string):\n",
        "    global max_sentence_length\n",
        "    string = tf.strings.substr(string, 0, 300)\n",
        "    # string = tf.strings.regex_replace(string, b\"<br\\\\s*/?\", b\" \")\n",
        "    string = tf.strings.regex_replace(string, b\"[^\\P{P}<>]+\", b\" \")\n",
        "    string = tf.strings.split(string)\n",
        "    string = tf.strings.regex_replace(string, b\" \", b\"<pad>\")\n",
        "    string = string.to_tensor(default_value=b\"<pad>\")\n",
        "    if string.shape[-1] > max_sentence_length:\n",
        "        max_sentence_length = string.shape[-1]\n",
        "    return string.numpy()"
      ]
    },
    {
      "cell_type": "code",
      "source": [
        "def tweet_shaper(tweet, length):\n",
        "    s_array_length = length - len(tweet)\n",
        "    s_array = np.full((s_array_length,), b\"<pad>\")\n",
        "    return np.concatenate((tweet, s_array), axis=0)"
      ],
      "metadata": {
        "id": "8LmfUQPHWXEB"
      },
      "execution_count": null,
      "outputs": []
    },
    {
      "cell_type": "code",
      "source": [
        "tweets[0]"
      ],
      "metadata": {
        "colab": {
          "base_uri": "https://localhost:8080/"
        },
        "id": "oyW6NqNWGirE",
        "outputId": "5335a973-436d-4beb-ef03-b0c6635142ee"
      },
      "execution_count": null,
      "outputs": [
        {
          "output_type": "execute_result",
          "data": {
            "text/plain": [
              "'I am coming to the borders and I will kill you all,'"
            ],
            "application/vnd.google.colaboratory.intrinsic+json": {
              "type": "string"
            }
          },
          "metadata": {},
          "execution_count": 12
        }
      ]
    },
    {
      "cell_type": "code",
      "source": [
        "batched_tweets, batched_labels = batch_tweets(tweets, labels)"
      ],
      "metadata": {
        "id": "m41Oeybi14PO"
      },
      "execution_count": null,
      "outputs": []
    },
    {
      "cell_type": "code",
      "execution_count": null,
      "metadata": {
        "id": "LVy2-ay2DufG"
      },
      "outputs": [],
      "source": [
        "processed_tweets = np.array(list(map(lambda batch: [tweet_shaper(k, max_sentence_length) for k in batch], list(map(lambda i: preprocess_string(i), batched_tweets)))))"
      ]
    },
    {
      "cell_type": "code",
      "source": [
        "from collections import Counter\n",
        "vocab = Counter()\n",
        "for tweet in processed_tweets:\n",
        "    for ins in tweet:\n",
        "        vocab.update(ins)"
      ],
      "metadata": {
        "id": "t8aOiy-yyCKM"
      },
      "execution_count": null,
      "outputs": []
    },
    {
      "cell_type": "code",
      "source": [
        "vocab.most_common()[:10], len(vocab)"
      ],
      "metadata": {
        "colab": {
          "base_uri": "https://localhost:8080/"
        },
        "id": "Sgq7upcF0vYj",
        "outputId": "35a28686-0a29-45db-b5f9-00b66e25ff12"
      },
      "execution_count": null,
      "outputs": [
        {
          "output_type": "execute_result",
          "data": {
            "text/plain": [
              "([(b'<pad>', 4176995),\n",
              "  (b'<sos>', 43008),\n",
              "  (b'the', 22706),\n",
              "  (b'I', 20868),\n",
              "  (b'to', 16232),\n",
              "  (b'and', 14530),\n",
              "  (b'a', 12570),\n",
              "  (b'is', 10703),\n",
              "  (b'of', 10475),\n",
              "  (b'it', 9266)],\n",
              " 25603)"
            ]
          },
          "metadata": {},
          "execution_count": 16
        }
      ]
    },
    {
      "cell_type": "code",
      "source": [
        "vocab_size = 5000\n",
        "truncated_vocab = [word[0] for word in vocab.most_common()[:vocab_size]]"
      ],
      "metadata": {
        "id": "uitQO4ep5jBO"
      },
      "execution_count": null,
      "outputs": []
    },
    {
      "cell_type": "code",
      "source": [
        "truncated_vocab[:10]"
      ],
      "metadata": {
        "colab": {
          "base_uri": "https://localhost:8080/"
        },
        "id": "cBqCA-uQJWq6",
        "outputId": "71b653e7-e716-4f8e-b18e-21d05873515f"
      },
      "execution_count": null,
      "outputs": [
        {
          "output_type": "execute_result",
          "data": {
            "text/plain": [
              "[b'<pad>', b'<sos>', b'the', b'I', b'to', b'and', b'a', b'is', b'of', b'it']"
            ]
          },
          "metadata": {},
          "execution_count": 18
        }
      ]
    },
    {
      "cell_type": "code",
      "source": [
        "words = tf.constant(truncated_vocab)\n",
        "word_ids = tf.range(len(truncated_vocab), dtype=tf.int64)\n",
        "vocab_init = tf.lookup.KeyValueTensorInitializer(words, word_ids)\n",
        "num_oov_buckets = 1000\n",
        "table = tf.lookup.StaticVocabularyTable(vocab_init, num_oov_buckets)"
      ],
      "metadata": {
        "id": "D_Z_hTJNJZWC"
      },
      "execution_count": null,
      "outputs": []
    },
    {
      "cell_type": "code",
      "source": [
        "table.lookup(tf.constant(b\"Hello boy\".split()))"
      ],
      "metadata": {
        "colab": {
          "base_uri": "https://localhost:8080/"
        },
        "id": "IjYuTsRxJ_a8",
        "outputId": "f9572f51-ce06-472d-8a8b-99da43262322"
      },
      "execution_count": null,
      "outputs": [
        {
          "output_type": "execute_result",
          "data": {
            "text/plain": [
              "<tf.Tensor: shape=(2,), dtype=int64, numpy=array([1027, 1090])>"
            ]
          },
          "metadata": {},
          "execution_count": 20
        }
      ]
    },
    {
      "cell_type": "code",
      "source": [
        "encoded_tweets = tf.reshape(table.lookup(tf.constant(processed_tweets)), shape=(len(processed_tweets)*32, max_sentence_length))\n",
        "labels = tf.reshape(batched_labels, shape=(len(batched_labels)*32,))"
      ],
      "metadata": {
        "id": "PCVaJWm3Rikf"
      },
      "execution_count": null,
      "outputs": []
    },
    {
      "cell_type": "code",
      "source": [
        "# one_hot_labels = tf.reshape(tf.one_hot(batched_labels, 4), shape=(len(batched_labels)*32, 4))"
      ],
      "metadata": {
        "id": "S9iVz7IGL_-M"
      },
      "execution_count": null,
      "outputs": []
    },
    {
      "cell_type": "code",
      "source": [
        "encoded_tweets.shape, labels.shape"
      ],
      "metadata": {
        "colab": {
          "base_uri": "https://localhost:8080/"
        },
        "id": "oXkAH1vKMgHj",
        "outputId": "a8c24038-6ec2-4689-f6b3-fedf35a83a88"
      },
      "execution_count": null,
      "outputs": [
        {
          "output_type": "execute_result",
          "data": {
            "text/plain": [
              "(TensorShape([43008, 117]), TensorShape([43008]))"
            ]
          },
          "metadata": {},
          "execution_count": 23
        }
      ]
    },
    {
      "cell_type": "code",
      "source": [
        "batched_labels.shape"
      ],
      "metadata": {
        "colab": {
          "base_uri": "https://localhost:8080/"
        },
        "id": "ZgWcsBFVbqKy",
        "outputId": "abfe4532-d86c-47a3-89e3-b16b2e5e022f"
      },
      "execution_count": null,
      "outputs": [
        {
          "output_type": "execute_result",
          "data": {
            "text/plain": [
              "(1344, 32)"
            ]
          },
          "metadata": {},
          "execution_count": 24
        }
      ]
    },
    {
      "cell_type": "markdown",
      "source": [
        "## Binary"
      ],
      "metadata": {
        "id": "8thr5HuV-RBU"
      }
    },
    {
      "cell_type": "markdown",
      "source": [
        "### Model Building"
      ],
      "metadata": {
        "id": "cWrzIgmMKac0"
      }
    },
    {
      "cell_type": "code",
      "source": [
        "embed_size = 128\n",
        "model = Sequential([\n",
        "                    layers.Embedding(vocab_size + num_oov_buckets, \n",
        "                                     embed_size, input_shape=[max_sentence_length]), \n",
        "                    layers.Conv1D(128, kernel_size=1, activation=\"relu\"), \n",
        "                    layers.Conv1D(64, kernel_size=1, activation=\"relu\"), \n",
        "                    layers.MaxPool1D(), \n",
        "                    layers.Conv1D(32, kernel_size=1, activation=\"relu\"), \n",
        "                    layers.Conv1D(16, kernel_size=1, activation=\"relu\"), \n",
        "                    layers.MaxPool1D(), \n",
        "                    layers.Conv1D(8, kernel_size=1, activation=\"relu\"), \n",
        "                    layers.Conv1D(4, kernel_size=1, activation=\"relu\"), \n",
        "                    layers.MaxPool1D(), \n",
        "                    layers.Flatten(), \n",
        "                    layers.Dense(256, activation=\"relu\"), \n",
        "                    layers.BatchNormalization(), \n",
        "                    layers.Dense(128, activation=\"relu\"), \n",
        "                    layers.BatchNormalization(), \n",
        "                    layers.Dense(64, activation=\"relu\"), \n",
        "                    layers.BatchNormalization(), \n",
        "                    # layers.GRU(128, return_sequences=True), \n",
        "                    # layers.LSTM(64, return_sequences=True, activation=\"relu\"), \n",
        "                    # layers.GRU(32), \n",
        "                    # layers.LSTM(16, return_sequences=True), \n",
        "                    # layers.LSTM(8), \n",
        "                    layers.Dense(32, activation=\"relu\"), \n",
        "                    layers.BatchNormalization(), \n",
        "                    layers.Dense(16, activation=\"relu\"), \n",
        "                    layers.BatchNormalization(), \n",
        "                    layers.Dense(4, activation=\"relu\"),\n",
        "                    layers.Dense(1, activation=\"sigmoid\")])"
      ],
      "metadata": {
        "id": "-318j3UyKxM_"
      },
      "execution_count": null,
      "outputs": []
    },
    {
      "cell_type": "code",
      "source": [
        "model.summary()"
      ],
      "metadata": {
        "colab": {
          "base_uri": "https://localhost:8080/"
        },
        "id": "HQdznD4PepWo",
        "outputId": "b1588351-7e7b-4379-9b1c-0fb7371a22f3"
      },
      "execution_count": null,
      "outputs": [
        {
          "output_type": "stream",
          "name": "stdout",
          "text": [
            "Model: \"sequential_5\"\n",
            "_________________________________________________________________\n",
            " Layer (type)                Output Shape              Param #   \n",
            "=================================================================\n",
            " embedding_5 (Embedding)     (None, 117, 128)          768000    \n",
            "                                                                 \n",
            " conv1d_6 (Conv1D)           (None, 117, 128)          16512     \n",
            "                                                                 \n",
            " conv1d_7 (Conv1D)           (None, 117, 64)           8256      \n",
            "                                                                 \n",
            " max_pooling1d_2 (MaxPooling  (None, 58, 64)           0         \n",
            " 1D)                                                             \n",
            "                                                                 \n",
            " conv1d_8 (Conv1D)           (None, 58, 32)            2080      \n",
            "                                                                 \n",
            " conv1d_9 (Conv1D)           (None, 58, 16)            528       \n",
            "                                                                 \n",
            " max_pooling1d_3 (MaxPooling  (None, 29, 16)           0         \n",
            " 1D)                                                             \n",
            "                                                                 \n",
            " conv1d_10 (Conv1D)          (None, 29, 8)             136       \n",
            "                                                                 \n",
            " conv1d_11 (Conv1D)          (None, 29, 4)             36        \n",
            "                                                                 \n",
            " max_pooling1d_4 (MaxPooling  (None, 14, 4)            0         \n",
            " 1D)                                                             \n",
            "                                                                 \n",
            " flatten_1 (Flatten)         (None, 56)                0         \n",
            "                                                                 \n",
            " dense_14 (Dense)            (None, 256)               14592     \n",
            "                                                                 \n",
            " batch_normalization (BatchN  (None, 256)              1024      \n",
            " ormalization)                                                   \n",
            "                                                                 \n",
            " dense_15 (Dense)            (None, 128)               32896     \n",
            "                                                                 \n",
            " batch_normalization_1 (Batc  (None, 128)              512       \n",
            " hNormalization)                                                 \n",
            "                                                                 \n",
            " dense_16 (Dense)            (None, 64)                8256      \n",
            "                                                                 \n",
            " batch_normalization_2 (Batc  (None, 64)               256       \n",
            " hNormalization)                                                 \n",
            "                                                                 \n",
            " dense_17 (Dense)            (None, 32)                2080      \n",
            "                                                                 \n",
            " batch_normalization_3 (Batc  (None, 32)               128       \n",
            " hNormalization)                                                 \n",
            "                                                                 \n",
            " dense_18 (Dense)            (None, 16)                528       \n",
            "                                                                 \n",
            " batch_normalization_4 (Batc  (None, 16)               64        \n",
            " hNormalization)                                                 \n",
            "                                                                 \n",
            " dense_19 (Dense)            (None, 4)                 68        \n",
            "                                                                 \n",
            " dense_20 (Dense)            (None, 1)                 5         \n",
            "                                                                 \n",
            "=================================================================\n",
            "Total params: 855,957\n",
            "Trainable params: 854,965\n",
            "Non-trainable params: 992\n",
            "_________________________________________________________________\n"
          ]
        }
      ]
    },
    {
      "cell_type": "code",
      "source": [
        "model.compile(loss=\"binary_crossentropy\", optimizer=\"adam\", \n",
        "              metrics=[\"accuracy\"])"
      ],
      "metadata": {
        "id": "gDGrICkmMSZC"
      },
      "execution_count": null,
      "outputs": []
    },
    {
      "cell_type": "code",
      "source": [
        "model.fit(encoded_tweets, labels, epochs=10)"
      ],
      "metadata": {
        "colab": {
          "base_uri": "https://localhost:8080/"
        },
        "id": "QxlnMjqPN1VQ",
        "outputId": "b2cdf6c1-122e-4e82-fcdb-9b537f0e1aee"
      },
      "execution_count": null,
      "outputs": [
        {
          "output_type": "stream",
          "name": "stdout",
          "text": [
            "Epoch 1/10\n",
            "1344/1344 [==============================] - 17s 7ms/step - loss: 0.6334 - accuracy: 0.6197\n",
            "Epoch 2/10\n",
            "1344/1344 [==============================] - 9s 7ms/step - loss: 0.3764 - accuracy: 0.8295\n",
            "Epoch 3/10\n",
            "1344/1344 [==============================] - 9s 7ms/step - loss: 0.2592 - accuracy: 0.8908\n",
            "Epoch 4/10\n",
            "1344/1344 [==============================] - 9s 7ms/step - loss: 0.2057 - accuracy: 0.9129\n",
            "Epoch 5/10\n",
            "1344/1344 [==============================] - 9s 7ms/step - loss: 0.1737 - accuracy: 0.9277\n",
            "Epoch 6/10\n",
            "1344/1344 [==============================] - 9s 7ms/step - loss: 0.1505 - accuracy: 0.9366\n",
            "Epoch 7/10\n",
            "1344/1344 [==============================] - 9s 7ms/step - loss: 0.1281 - accuracy: 0.9454\n",
            "Epoch 8/10\n",
            "1344/1344 [==============================] - 9s 7ms/step - loss: 0.1118 - accuracy: 0.9518\n",
            "Epoch 9/10\n",
            "1344/1344 [==============================] - 9s 7ms/step - loss: 0.1029 - accuracy: 0.9557\n",
            "Epoch 10/10\n",
            "1344/1344 [==============================] - 9s 7ms/step - loss: 0.0900 - accuracy: 0.9608\n"
          ]
        },
        {
          "output_type": "execute_result",
          "data": {
            "text/plain": [
              "<keras.callbacks.History at 0x7fbfd7be0ad0>"
            ]
          },
          "metadata": {},
          "execution_count": 47
        }
      ]
    },
    {
      "cell_type": "markdown",
      "source": [
        "### Testing"
      ],
      "metadata": {
        "id": "OgsUWsKUOF91"
      }
    },
    {
      "cell_type": "code",
      "source": [
        "valid_df = pd.read_csv(\"/content/twitter_validation.csv\")\n",
        "valid_df.drop(valid_df.columns[:2], axis=1, inplace=True)\n",
        "valid_df.rename(columns={valid_df.columns[0]: 'sentiment', valid_df.columns[1]: 'tweet'}, \n",
        "                inplace=True, errors='raise')\n",
        "valid_df.dropna(inplace=True)\n",
        "simple_valid_df = valid_df[(valid_df[\"sentiment\"] == \"Positive\") | (valid_df[\"sentiment\"] == \"Negative\")]\n",
        "simple_valid_df.sentiment = [sentiment_map[i] for i in simple_valid_df.sentiment]\n",
        "valid_tweets = simple_valid_df.tweet.to_numpy()\n",
        "valid_labels = simple_valid_df.sentiment.to_numpy()"
      ],
      "metadata": {
        "colab": {
          "base_uri": "https://localhost:8080/"
        },
        "id": "18Ci_T-_5NtU",
        "outputId": "bf9a486b-12cd-4d99-94c2-4dd476dcf75a"
      },
      "execution_count": null,
      "outputs": [
        {
          "output_type": "stream",
          "name": "stderr",
          "text": [
            "/usr/local/lib/python3.7/dist-packages/pandas/core/generic.py:5516: SettingWithCopyWarning: \n",
            "A value is trying to be set on a copy of a slice from a DataFrame.\n",
            "Try using .loc[row_indexer,col_indexer] = value instead\n",
            "\n",
            "See the caveats in the documentation: https://pandas.pydata.org/pandas-docs/stable/user_guide/indexing.html#returning-a-view-versus-a-copy\n",
            "  self[name] = value\n"
          ]
        }
      ]
    },
    {
      "cell_type": "code",
      "source": [
        "batch_valid_data, batch_valid_labels = batch_tweets(valid_tweets, valid_labels)\n",
        "processed_tweets = np.array(list(map(lambda batch: [tweet_shaper(k, max_sentence_length) for k in batch], list(map(lambda i: preprocess_string(i), batch_valid_data)))))\n",
        "encoded_valid_tweets = tf.reshape(table.lookup(tf.constant(processed_tweets)), shape=(len(processed_tweets)*32, max_sentence_length))\n",
        "valid_labels = tf.reshape(batch_valid_labels, shape=(len(batch_valid_labels)*32,))"
      ],
      "metadata": {
        "id": "ltdSAZXB6m95"
      },
      "execution_count": null,
      "outputs": []
    },
    {
      "cell_type": "code",
      "source": [
        "model.evaluate(encoded_valid_tweets, valid_labels)"
      ],
      "metadata": {
        "colab": {
          "base_uri": "https://localhost:8080/"
        },
        "id": "1ep_VJKD7nJz",
        "outputId": "09376380-dd01-4d25-d83f-347bafb70909"
      },
      "execution_count": null,
      "outputs": [
        {
          "output_type": "stream",
          "name": "stdout",
          "text": [
            "16/16 [==============================] - 1s 5ms/step - loss: 0.0841 - accuracy: 0.9785\n"
          ]
        },
        {
          "output_type": "execute_result",
          "data": {
            "text/plain": [
              "[0.08412598818540573, 0.978515625]"
            ]
          },
          "metadata": {},
          "execution_count": 63
        }
      ]
    },
    {
      "cell_type": "code",
      "source": [
        "model.predict(encoded_valid_tweets[50:51])"
      ],
      "metadata": {
        "colab": {
          "base_uri": "https://localhost:8080/"
        },
        "id": "qCDOLfc98KNI",
        "outputId": "091632ae-85d4-4e31-88d0-e446a57d2574"
      },
      "execution_count": null,
      "outputs": [
        {
          "output_type": "execute_result",
          "data": {
            "text/plain": [
              "array([[0.98261917]], dtype=float32)"
            ]
          },
          "metadata": {},
          "execution_count": 75
        }
      ]
    },
    {
      "cell_type": "code",
      "source": [
        "valid_labels[50]"
      ],
      "metadata": {
        "colab": {
          "base_uri": "https://localhost:8080/"
        },
        "id": "xKvoF5u988mA",
        "outputId": "01e95fde-59e2-4395-ef99-6fd6471f595a"
      },
      "execution_count": null,
      "outputs": [
        {
          "output_type": "execute_result",
          "data": {
            "text/plain": [
              "<tf.Tensor: shape=(), dtype=int64, numpy=1>"
            ]
          },
          "metadata": {},
          "execution_count": 77
        }
      ]
    },
    {
      "cell_type": "code",
      "source": [
        ""
      ],
      "metadata": {
        "id": "6J0UIPQp-CVy"
      },
      "execution_count": null,
      "outputs": []
    },
    {
      "cell_type": "markdown",
      "source": [
        "## Multiclass"
      ],
      "metadata": {
        "id": "bzRUNwxw-VzD"
      }
    },
    {
      "cell_type": "markdown",
      "source": [
        "### data "
      ],
      "metadata": {
        "id": "GHjZqIFjAHdr"
      }
    },
    {
      "cell_type": "code",
      "source": [
        "train_df = pd.read_csv(\"/content/twitter_training.csv\")\n",
        "train_df.drop(train_df.columns[:2], axis=1, inplace=True)\n",
        "train_df.rename(columns={train_df.columns[0]: 'sentiment', train_df.columns[1]: 'tweet'}, \n",
        "                inplace=True, errors='raise')\n",
        "train_df.dropna(inplace=True)\n",
        "# simple_train_df = train_df[(train_df[\"sentiment\"] == \"Positive\") | (train_df[\"sentiment\"] == \"Negative\")]\n",
        "sentiment_map = {k:i for i, k in enumerate(list(dict(train_df[\"sentiment\"].value_counts()).keys()))}\n",
        "train_df.sentiment = [sentiment_map[i] for i in train_df.sentiment]\n",
        "train_tweets = train_df.tweet.to_numpy()\n",
        "train_labels = train_df.sentiment.to_numpy()"
      ],
      "metadata": {
        "id": "OBPTEwhyAgQX"
      },
      "execution_count": null,
      "outputs": []
    },
    {
      "cell_type": "code",
      "source": [
        "train_tweets.shape, train_labels.shape"
      ],
      "metadata": {
        "colab": {
          "base_uri": "https://localhost:8080/"
        },
        "id": "mui_OAmYEIM3",
        "outputId": "7a56f5b3-850f-42f4-e093-7980adf97016"
      },
      "execution_count": null,
      "outputs": [
        {
          "output_type": "execute_result",
          "data": {
            "text/plain": [
              "((73995,), (73995,))"
            ]
          },
          "metadata": {},
          "execution_count": 26
        }
      ]
    },
    {
      "cell_type": "code",
      "source": [
        "batch_train_data, batch_train_labels = batch_tweets(train_tweets, train_labels)\n",
        "processed_tweets = np.array(list(map(lambda batch: [tweet_shaper(k, max_sentence_length) for k in batch], \n",
        "                                     list(map(lambda i: preprocess_string(i), batch_train_data)))))\n",
        "encoded_train_tweets = tf.reshape(table.lookup(tf.constant(processed_tweets)), shape=(len(processed_tweets)*32, max_sentence_length))\n",
        "train_labels = tf.one_hot(batch_train_labels, depth=4)\n",
        "train_labels = tf.reshape(train_labels, shape=(len(batch_train_labels)*32,4))"
      ],
      "metadata": {
        "id": "DfKFAwIRAlfn"
      },
      "execution_count": null,
      "outputs": []
    },
    {
      "cell_type": "code",
      "source": [
        "encoded_train_tweets.shape, train_labels.shape"
      ],
      "metadata": {
        "colab": {
          "base_uri": "https://localhost:8080/"
        },
        "id": "X4s1Mx25DgeL",
        "outputId": "3db03330-6e58-42ce-bdbe-a76ab8290803"
      },
      "execution_count": null,
      "outputs": [
        {
          "output_type": "execute_result",
          "data": {
            "text/plain": [
              "(TensorShape([73984, 148]), TensorShape([73984, 4]))"
            ]
          },
          "metadata": {},
          "execution_count": 28
        }
      ]
    },
    {
      "cell_type": "code",
      "source": [
        ""
      ],
      "metadata": {
        "id": "pzKmYsLpn2W3"
      },
      "execution_count": null,
      "outputs": []
    },
    {
      "cell_type": "markdown",
      "source": [
        "### Evaluation"
      ],
      "metadata": {
        "id": "gBHQVXMCRUR6"
      }
    },
    {
      "cell_type": "code",
      "source": [
        ""
      ],
      "metadata": {
        "id": "UGwSCVbhRWAE"
      },
      "execution_count": null,
      "outputs": []
    },
    {
      "cell_type": "code",
      "source": [
        "valid_df = pd.read_csv(\"/content/twitter_validation.csv\")\n",
        "valid_df.drop(valid_df.columns[:2], axis=1, inplace=True)\n",
        "valid_df.rename(columns={valid_df.columns[0]: 'sentiment', valid_df.columns[1]: 'tweet'}, \n",
        "                inplace=True, errors='raise')\n",
        "valid_df.dropna(inplace=True)\n",
        "# simple_valid_df = valid_df[(valid_df[\"sentiment\"] == \"Positive\") | (valid_df[\"sentiment\"] == \"Negative\")]\n",
        "sentiment_map = {k:i for i, k in enumerate(list(dict(valid_df[\"sentiment\"].value_counts()).keys()))}\n",
        "valid_df.sentiment = [sentiment_map[i] for i in valid_df.sentiment]\n",
        "valid_tweets = valid_df.tweet.to_numpy()\n",
        "valid_labels = valid_df.sentiment.to_numpy()"
      ],
      "metadata": {
        "id": "NRoYUL7PRWW4"
      },
      "execution_count": null,
      "outputs": []
    },
    {
      "cell_type": "code",
      "source": [
        "valid_tweets.shape, valid_labels.shape"
      ],
      "metadata": {
        "colab": {
          "base_uri": "https://localhost:8080/"
        },
        "outputId": "f70f709f-373c-4edc-a2c8-bd23c0bb8664",
        "id": "E0skxFhxRWW5"
      },
      "execution_count": null,
      "outputs": [
        {
          "output_type": "execute_result",
          "data": {
            "text/plain": [
              "((999,), (999,))"
            ]
          },
          "metadata": {},
          "execution_count": 30
        }
      ]
    },
    {
      "cell_type": "code",
      "source": [
        "batch_valid_data, batch_valid_labels = batch_tweets(valid_tweets, valid_labels)\n",
        "processed_tweets = np.array(list(map(lambda batch: [tweet_shaper(k, max_sentence_length) for k in batch], \n",
        "                                     list(map(lambda i: preprocess_string(i), batch_valid_data)))))\n",
        "encoded_valid_tweets = tf.reshape(table.lookup(tf.constant(processed_tweets)), shape=(len(processed_tweets)*32, max_sentence_length))\n",
        "valid_labels = tf.one_hot(batch_valid_labels, depth=4)\n",
        "valid_labels = tf.reshape(valid_labels, shape=(len(batch_valid_labels)*32,4))"
      ],
      "metadata": {
        "id": "LAyfrwRrRWW6"
      },
      "execution_count": null,
      "outputs": []
    },
    {
      "cell_type": "code",
      "source": [
        "encoded_valid_tweets.shape, valid_labels.shape"
      ],
      "metadata": {
        "colab": {
          "base_uri": "https://localhost:8080/"
        },
        "id": "x_pfvg5KR6Z6",
        "outputId": "b9daca6f-e65f-482e-d747-92a3710eae25"
      },
      "execution_count": null,
      "outputs": [
        {
          "output_type": "execute_result",
          "data": {
            "text/plain": [
              "(TensorShape([992, 148]), TensorShape([992, 4]))"
            ]
          },
          "metadata": {},
          "execution_count": 32
        }
      ]
    },
    {
      "cell_type": "code",
      "source": [
        "# model2.evaluate(encoded_valid_tweets, valid_labels)"
      ],
      "metadata": {
        "id": "5tRV4dr1SANH"
      },
      "execution_count": null,
      "outputs": []
    },
    {
      "cell_type": "code",
      "source": [
        ""
      ],
      "metadata": {
        "id": "Fh0a__U3SFGr"
      },
      "execution_count": null,
      "outputs": []
    },
    {
      "cell_type": "markdown",
      "source": [
        "### model"
      ],
      "metadata": {
        "id": "9fscEibcAdej"
      }
    },
    {
      "cell_type": "code",
      "source": [
        "# model.layers"
      ],
      "metadata": {
        "id": "xBrn3R7bHHyh"
      },
      "execution_count": null,
      "outputs": []
    },
    {
      "cell_type": "code",
      "source": [
        "embed_size = 128\n",
        "model2 = Sequential([\n",
        "                layers.Embedding(vocab_size + num_oov_buckets, \n",
        "                                    embed_size, input_shape=[max_sentence_length]), \n",
        "                # layers.GRU(512, return_sequences=True, activation=\"relu\"), \n",
        "                layers.Conv1D(512, kernel_size=1, activation=\"relu\"), \n",
        "                layers.Conv1D(256, kernel_size=1, activation=\"relu\"), \n",
        "                layers.MaxPool1D(),\n",
        "                # layers.Dropout(0.5), \n",
        "                layers.Conv1D(256, kernel_size=1, activation=\"relu\"), \n",
        "                layers.Conv1D(128, kernel_size=1, activation=\"relu\"), \n",
        "                layers.MaxPool1D(), \n",
        "                # layers.Dropout(0.5), \n",
        "                layers.Conv1D(128, kernel_size=1, activation=\"relu\"), \n",
        "                layers.Conv1D(64, kernel_size=1, activation=\"relu\"), \n",
        "                layers.MaxPool1D(), \n",
        "                layers.Conv1D(64, kernel_size=1, activation=\"relu\"), \n",
        "                layers.Conv1D(32, kernel_size=1, activation=\"relu\"), \n",
        "                layers.MaxPool1D(),\n",
        "                layers.Conv1D(32, kernel_size=1, activation=\"relu\"), \n",
        "                layers.Conv1D(16, kernel_size=1, activation=\"relu\"), \n",
        "                layers.MaxPool1D(),\n",
        "                layers.Conv1D(16, kernel_size=1, activation=\"relu\"), \n",
        "                layers.Conv1D(8, kernel_size=1, activation=\"relu\"), \n",
        "                layers.MaxPool1D(),\n",
        "                # layers.Conv1D(8, kernel_size=1, activation=\"relu\"), \n",
        "                # layers.Conv1D(8, kernel_size=1, activation=\"relu\"), \n",
        "                # layers.MaxPool1D(),\n",
        "                # layers.Dropout(0.5), \n",
        "                # layers.Conv1D(16, kernel_size=1, activation=\"relu\"), \n",
        "                # layers.Conv1D(16, kernel_size=1, activation=\"relu\"), \n",
        "                # layers.MaxPool1D(), \n",
        "                # layers.Conv1D(8, kernel_size=1, activation=\"relu\"), \n",
        "                # layers.Conv1D(8, kernel_size=1, activation=\"relu\"), \n",
        "                # layers.MaxPool1D(), \n",
        "                layers.Flatten(), \n",
        "                # layers.Dense(256, activation=\"relu\"), \n",
        "                # layers.BatchNormalization(), \n",
        "                # layers.Dense(128, activation=\"relu\"), \n",
        "                # layers.BatchNormalization(), \n",
        "                # layers.Dropout(0.5), \n",
        "                # layers.Dense(64, activation=\"relu\"), \n",
        "                # layers.BatchNormalization(), \n",
        "                # layers.Dropout(0.5), \n",
        "                # layers.Dense(32, activation=\"relu\"), \n",
        "                # layers.BatchNormalization(), \n",
        "                # layers.Dropout(0.5), \n",
        "                # layers.Dense(16, activation=\"relu\"), \n",
        "                # layers.BatchNormalization(), \n",
        "                layers.Dense(4, activation=\"softmax\")])\n",
        "                # layers.Dense(1, activation=\"sigmoid\")]\n",
        "model2.compile(loss=\"categorical_crossentropy\", optimizer=\"adam\", \n",
        "               metrics=[\"accuracy\"])"
      ],
      "metadata": {
        "id": "DW-3vWj5-YON"
      },
      "execution_count": null,
      "outputs": []
    },
    {
      "cell_type": "code",
      "source": [
        "model2.summary()"
      ],
      "metadata": {
        "colab": {
          "base_uri": "https://localhost:8080/"
        },
        "id": "xda-wt8B-pvK",
        "outputId": "5b4f031d-17b1-4f49-a8ba-dbfca19e3e6b"
      },
      "execution_count": null,
      "outputs": [
        {
          "output_type": "stream",
          "name": "stdout",
          "text": [
            "Model: \"sequential_3\"\n",
            "_________________________________________________________________\n",
            " Layer (type)                Output Shape              Param #   \n",
            "=================================================================\n",
            " embedding_3 (Embedding)     (None, 148, 128)          768000    \n",
            "                                                                 \n",
            " conv1d_36 (Conv1D)          (None, 148, 512)          66048     \n",
            "                                                                 \n",
            " conv1d_37 (Conv1D)          (None, 148, 256)          131328    \n",
            "                                                                 \n",
            " max_pooling1d_18 (MaxPoolin  (None, 74, 256)          0         \n",
            " g1D)                                                            \n",
            "                                                                 \n",
            " conv1d_38 (Conv1D)          (None, 74, 256)           65792     \n",
            "                                                                 \n",
            " conv1d_39 (Conv1D)          (None, 74, 128)           32896     \n",
            "                                                                 \n",
            " max_pooling1d_19 (MaxPoolin  (None, 37, 128)          0         \n",
            " g1D)                                                            \n",
            "                                                                 \n",
            " conv1d_40 (Conv1D)          (None, 37, 128)           16512     \n",
            "                                                                 \n",
            " conv1d_41 (Conv1D)          (None, 37, 64)            8256      \n",
            "                                                                 \n",
            " max_pooling1d_20 (MaxPoolin  (None, 18, 64)           0         \n",
            " g1D)                                                            \n",
            "                                                                 \n",
            " conv1d_42 (Conv1D)          (None, 18, 64)            4160      \n",
            "                                                                 \n",
            " conv1d_43 (Conv1D)          (None, 18, 32)            2080      \n",
            "                                                                 \n",
            " max_pooling1d_21 (MaxPoolin  (None, 9, 32)            0         \n",
            " g1D)                                                            \n",
            "                                                                 \n",
            " conv1d_44 (Conv1D)          (None, 9, 32)             1056      \n",
            "                                                                 \n",
            " conv1d_45 (Conv1D)          (None, 9, 16)             528       \n",
            "                                                                 \n",
            " max_pooling1d_22 (MaxPoolin  (None, 4, 16)            0         \n",
            " g1D)                                                            \n",
            "                                                                 \n",
            " conv1d_46 (Conv1D)          (None, 4, 16)             272       \n",
            "                                                                 \n",
            " conv1d_47 (Conv1D)          (None, 4, 8)              136       \n",
            "                                                                 \n",
            " max_pooling1d_23 (MaxPoolin  (None, 2, 8)             0         \n",
            " g1D)                                                            \n",
            "                                                                 \n",
            " flatten_3 (Flatten)         (None, 16)                0         \n",
            "                                                                 \n",
            " dense_8 (Dense)             (None, 4)                 68        \n",
            "                                                                 \n",
            "=================================================================\n",
            "Total params: 1,097,132\n",
            "Trainable params: 1,097,132\n",
            "Non-trainable params: 0\n",
            "_________________________________________________________________\n"
          ]
        }
      ]
    },
    {
      "cell_type": "code",
      "source": [
        "model2.fit(encoded_train_tweets, train_labels, epochs=25, \n",
        "           validation_data=(encoded_valid_tweets, valid_labels), \n",
        "           callbacks=[keras.callbacks.EarlyStopping(patience=3, \n",
        "                                                    monitor=\"val_accuracy\",\n",
        "                                                    restore_best_weights=True)])"
      ],
      "metadata": {
        "colab": {
          "base_uri": "https://localhost:8080/"
        },
        "id": "DwM4nzVt_Ged",
        "outputId": "b7d243c0-7b46-4cb7-f0d0-67bfa05a9708"
      },
      "execution_count": null,
      "outputs": [
        {
          "output_type": "stream",
          "name": "stdout",
          "text": [
            "Epoch 1/25\n",
            "2312/2312 [==============================] - 45s 19ms/step - loss: 1.2874 - accuracy: 0.3934 - val_loss: 1.9926 - val_accuracy: 0.1784\n",
            "Epoch 2/25\n",
            "2312/2312 [==============================] - 43s 19ms/step - loss: 1.1239 - accuracy: 0.5204 - val_loss: 2.0810 - val_accuracy: 0.2339\n",
            "Epoch 3/25\n",
            "2312/2312 [==============================] - 43s 19ms/step - loss: 1.0154 - accuracy: 0.5809 - val_loss: 2.2818 - val_accuracy: 0.2611\n",
            "Epoch 4/25\n",
            "2312/2312 [==============================] - 43s 19ms/step - loss: 0.9209 - accuracy: 0.6302 - val_loss: 2.1878 - val_accuracy: 0.2984\n",
            "Epoch 5/25\n",
            "2312/2312 [==============================] - 43s 18ms/step - loss: 0.8579 - accuracy: 0.6601 - val_loss: 2.2713 - val_accuracy: 0.3276\n",
            "Epoch 6/25\n",
            "2312/2312 [==============================] - 43s 19ms/step - loss: 0.8057 - accuracy: 0.6844 - val_loss: 2.4094 - val_accuracy: 0.3317\n",
            "Epoch 7/25\n",
            "2312/2312 [==============================] - 43s 18ms/step - loss: 0.7632 - accuracy: 0.7060 - val_loss: 2.4848 - val_accuracy: 0.3296\n",
            "Epoch 8/25\n",
            "2312/2312 [==============================] - 43s 18ms/step - loss: 0.7203 - accuracy: 0.7250 - val_loss: 2.7958 - val_accuracy: 0.3528\n",
            "Epoch 9/25\n",
            "2312/2312 [==============================] - 43s 18ms/step - loss: 0.6834 - accuracy: 0.7430 - val_loss: 2.7435 - val_accuracy: 0.3629\n",
            "Epoch 10/25\n",
            "2312/2312 [==============================] - 43s 19ms/step - loss: 0.6519 - accuracy: 0.7574 - val_loss: 2.5314 - val_accuracy: 0.3881\n",
            "Epoch 11/25\n",
            "2312/2312 [==============================] - 43s 19ms/step - loss: 0.6187 - accuracy: 0.7701 - val_loss: 2.9651 - val_accuracy: 0.3730\n",
            "Epoch 12/25\n",
            "2312/2312 [==============================] - 43s 19ms/step - loss: 0.5875 - accuracy: 0.7829 - val_loss: 2.5776 - val_accuracy: 0.3911\n",
            "Epoch 13/25\n",
            "2312/2312 [==============================] - 43s 18ms/step - loss: 0.5610 - accuracy: 0.7934 - val_loss: 2.7203 - val_accuracy: 0.4002\n",
            "Epoch 14/25\n",
            "2312/2312 [==============================] - 43s 18ms/step - loss: 0.5321 - accuracy: 0.8062 - val_loss: 3.2043 - val_accuracy: 0.3962\n",
            "Epoch 15/25\n",
            "2312/2312 [==============================] - 43s 18ms/step - loss: 0.5095 - accuracy: 0.8131 - val_loss: 2.9018 - val_accuracy: 0.4073\n",
            "Epoch 16/25\n",
            "2312/2312 [==============================] - 43s 18ms/step - loss: 0.4905 - accuracy: 0.8200 - val_loss: 2.9521 - val_accuracy: 0.4113\n",
            "Epoch 17/25\n",
            "2312/2312 [==============================] - 42s 18ms/step - loss: 0.4686 - accuracy: 0.8311 - val_loss: 3.0564 - val_accuracy: 0.4274\n",
            "Epoch 18/25\n",
            "2312/2312 [==============================] - 43s 18ms/step - loss: 0.4512 - accuracy: 0.8358 - val_loss: 3.2069 - val_accuracy: 0.3972\n",
            "Epoch 19/25\n",
            "2312/2312 [==============================] - 42s 18ms/step - loss: 0.4337 - accuracy: 0.8437 - val_loss: 3.4937 - val_accuracy: 0.4042\n",
            "Epoch 20/25\n",
            "2312/2312 [==============================] - 43s 18ms/step - loss: 0.4158 - accuracy: 0.8498 - val_loss: 3.2308 - val_accuracy: 0.4153\n"
          ]
        },
        {
          "output_type": "execute_result",
          "data": {
            "text/plain": [
              "<keras.callbacks.History at 0x7f4b900d1110>"
            ]
          },
          "metadata": {},
          "execution_count": 45
        }
      ]
    },
    {
      "cell_type": "code",
      "source": [
        "# model2.fit(encoded_train_tweets, train_labels, initial_epoch=10, epochs=100)"
      ],
      "metadata": {
        "id": "sXKmTvCQKRQn"
      },
      "execution_count": null,
      "outputs": []
    },
    {
      "cell_type": "code",
      "source": [
        "max_sentence_length"
      ],
      "metadata": {
        "id": "A_gttrpBLT1z"
      },
      "execution_count": null,
      "outputs": []
    }
  ],
  "metadata": {
    "colab": {
      "name": "sentiment_analysis.ipynb",
      "provenance": [],
      "collapsed_sections": [
        "MvrehcyK61ln",
        "OgsUWsKUOF91"
      ],
      "authorship_tag": "ABX9TyOtHzOtEKUaFJBKeQAQwpYQ",
      "include_colab_link": true
    },
    "kernelspec": {
      "display_name": "Python 3",
      "name": "python3"
    },
    "language_info": {
      "name": "python"
    },
    "accelerator": "GPU"
  },
  "nbformat": 4,
  "nbformat_minor": 0
}