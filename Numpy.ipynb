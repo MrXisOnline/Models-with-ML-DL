{
 "cells": [
  {
   "cell_type": "markdown",
   "id": "abf1e90b",
   "metadata": {},
   "source": [
    "### Creating Array"
   ]
  },
  {
   "cell_type": "code",
   "execution_count": 1,
   "id": "f907aaef",
   "metadata": {},
   "outputs": [],
   "source": [
    "import numpy as np"
   ]
  },
  {
   "cell_type": "code",
   "execution_count": 2,
   "id": "0bb7ca7f",
   "metadata": {},
   "outputs": [
    {
     "data": {
      "text/plain": [
       "((3,), array([1, 2, 3]))"
      ]
     },
     "execution_count": 2,
     "metadata": {},
     "output_type": "execute_result"
    }
   ],
   "source": [
    "# array\n",
    "arr = np.array([1, 2, 3])\n",
    "arr.shape, arr"
   ]
  },
  {
   "cell_type": "code",
   "execution_count": 3,
   "id": "ecb529e7",
   "metadata": {},
   "outputs": [
    {
     "data": {
      "text/plain": [
       "((2,), (2, 2), (2, 2, 2))"
      ]
     },
     "execution_count": 3,
     "metadata": {},
     "output_type": "execute_result"
    }
   ],
   "source": [
    "a1 = np.array([5, 10])\n",
    "a2 = np.array([[3, 2], \n",
    "               [5, 6]])\n",
    "a3 = np.array([[[1, 2], \n",
    "                [4, 5]], \n",
    "              [[5, 6], \n",
    "               [8, 0]]])\n",
    "a1.shape, a2.shape, a3.shape"
   ]
  },
  {
   "cell_type": "code",
   "execution_count": 4,
   "id": "1bfcf405",
   "metadata": {},
   "outputs": [
    {
     "data": {
      "text/plain": [
       "(1, 2, 3)"
      ]
     },
     "execution_count": 4,
     "metadata": {},
     "output_type": "execute_result"
    }
   ],
   "source": [
    "a1.ndim, a2.ndim, a3.ndim"
   ]
  },
  {
   "cell_type": "code",
   "execution_count": 5,
   "id": "3cc72828",
   "metadata": {},
   "outputs": [
    {
     "data": {
      "text/plain": [
       "dtype('int32')"
      ]
     },
     "execution_count": 5,
     "metadata": {},
     "output_type": "execute_result"
    }
   ],
   "source": [
    "a3.dtype"
   ]
  },
  {
   "cell_type": "code",
   "execution_count": 6,
   "id": "4db61da0",
   "metadata": {},
   "outputs": [
    {
     "data": {
      "text/plain": [
       "(2, 8)"
      ]
     },
     "execution_count": 6,
     "metadata": {},
     "output_type": "execute_result"
    }
   ],
   "source": [
    "a1.size, a3.size"
   ]
  },
  {
   "cell_type": "code",
   "execution_count": 7,
   "id": "3cd86fce",
   "metadata": {},
   "outputs": [
    {
     "data": {
      "text/plain": [
       "(numpy.ndarray, numpy.ndarray)"
      ]
     },
     "execution_count": 7,
     "metadata": {},
     "output_type": "execute_result"
    }
   ],
   "source": [
    "type(a1), type(a2)"
   ]
  },
  {
   "cell_type": "code",
   "execution_count": 8,
   "id": "aba02b8b",
   "metadata": {},
   "outputs": [],
   "source": [
    "import pandas as pd"
   ]
  },
  {
   "cell_type": "code",
   "execution_count": 9,
   "id": "a47b744b",
   "metadata": {},
   "outputs": [],
   "source": [
    "df = pd.DataFrame(a2)"
   ]
  },
  {
   "cell_type": "code",
   "execution_count": 10,
   "id": "8837c7d4",
   "metadata": {},
   "outputs": [
    {
     "data": {
      "text/html": [
       "<div>\n",
       "<style scoped>\n",
       "    .dataframe tbody tr th:only-of-type {\n",
       "        vertical-align: middle;\n",
       "    }\n",
       "\n",
       "    .dataframe tbody tr th {\n",
       "        vertical-align: top;\n",
       "    }\n",
       "\n",
       "    .dataframe thead th {\n",
       "        text-align: right;\n",
       "    }\n",
       "</style>\n",
       "<table border=\"1\" class=\"dataframe\">\n",
       "  <thead>\n",
       "    <tr style=\"text-align: right;\">\n",
       "      <th></th>\n",
       "      <th>0</th>\n",
       "      <th>1</th>\n",
       "    </tr>\n",
       "  </thead>\n",
       "  <tbody>\n",
       "    <tr>\n",
       "      <th>0</th>\n",
       "      <td>3</td>\n",
       "      <td>2</td>\n",
       "    </tr>\n",
       "    <tr>\n",
       "      <th>1</th>\n",
       "      <td>5</td>\n",
       "      <td>6</td>\n",
       "    </tr>\n",
       "  </tbody>\n",
       "</table>\n",
       "</div>"
      ],
      "text/plain": [
       "   0  1\n",
       "0  3  2\n",
       "1  5  6"
      ]
     },
     "execution_count": 10,
     "metadata": {},
     "output_type": "execute_result"
    }
   ],
   "source": [
    "df"
   ]
  },
  {
   "cell_type": "markdown",
   "id": "d929536a",
   "metadata": {},
   "source": [
    "### Different Ways to Create Array"
   ]
  },
  {
   "cell_type": "code",
   "execution_count": 11,
   "id": "7fb65a50",
   "metadata": {},
   "outputs": [
    {
     "data": {
      "text/plain": [
       "array([[1., 1., 1.],\n",
       "       [1., 1., 1.],\n",
       "       [1., 1., 1.]])"
      ]
     },
     "execution_count": 11,
     "metadata": {},
     "output_type": "execute_result"
    }
   ],
   "source": [
    "np.ones(shape=(3, 3))"
   ]
  },
  {
   "cell_type": "code",
   "execution_count": 12,
   "id": "169fb301",
   "metadata": {},
   "outputs": [
    {
     "data": {
      "text/plain": [
       "array([[0., 0.],\n",
       "       [0., 0.],\n",
       "       [0., 0.],\n",
       "       [0., 0.]])"
      ]
     },
     "execution_count": 12,
     "metadata": {},
     "output_type": "execute_result"
    }
   ],
   "source": [
    "np.zeros(shape=(4, 2))"
   ]
  },
  {
   "cell_type": "code",
   "execution_count": 13,
   "id": "40817b76",
   "metadata": {},
   "outputs": [
    {
     "data": {
      "text/plain": [
       "array([ 3,  5,  7,  9, 11, 13, 15, 17, 19])"
      ]
     },
     "execution_count": 13,
     "metadata": {},
     "output_type": "execute_result"
    }
   ],
   "source": [
    "np.arange(start=3, stop=20, step=2)"
   ]
  },
  {
   "cell_type": "code",
   "execution_count": 14,
   "id": "a55029c1",
   "metadata": {},
   "outputs": [
    {
     "data": {
      "text/plain": [
       "array([[ 6, 18, 20, 21],\n",
       "       [11, 10, 15, 17],\n",
       "       [15,  4, 13, 20]])"
      ]
     },
     "execution_count": 14,
     "metadata": {},
     "output_type": "execute_result"
    }
   ],
   "source": [
    "np.random.randint(2, 22, size=(3, 4))"
   ]
  },
  {
   "cell_type": "code",
   "execution_count": 15,
   "id": "06b5e9b7",
   "metadata": {},
   "outputs": [
    {
     "data": {
      "text/plain": [
       "array([[0.07608299, 0.42121889, 0.62751767],\n",
       "       [0.99295244, 0.66455986, 0.98027782],\n",
       "       [0.12024801, 0.48662223, 0.91999324],\n",
       "       [0.98601181, 0.71223523, 0.02738618],\n",
       "       [0.11964728, 0.8547826 , 0.96761739]])"
      ]
     },
     "execution_count": 15,
     "metadata": {},
     "output_type": "execute_result"
    }
   ],
   "source": [
    "np.random.random(size=(5, 3))"
   ]
  },
  {
   "cell_type": "code",
   "execution_count": 16,
   "id": "cc7d9b83",
   "metadata": {},
   "outputs": [
    {
     "data": {
      "text/plain": [
       "array([[[0.31015508, 0.62015911, 0.68183409],\n",
       "        [0.05789331, 0.035151  , 0.86696461],\n",
       "        [0.94438283, 0.55766177, 0.37984637]],\n",
       "\n",
       "       [[0.5945608 , 0.06367106, 0.59522823],\n",
       "        [0.58076128, 0.21917737, 0.56738535],\n",
       "        [0.49784588, 0.38337352, 0.5349866 ]],\n",
       "\n",
       "       [[0.03797691, 0.36311868, 0.0605837 ],\n",
       "        [0.18608426, 0.58744404, 0.02046736],\n",
       "        [0.99014382, 0.16886399, 0.28765878]]])"
      ]
     },
     "execution_count": 16,
     "metadata": {},
     "output_type": "execute_result"
    }
   ],
   "source": [
    "np.random.rand(3, 3, 3)"
   ]
  },
  {
   "cell_type": "code",
   "execution_count": 17,
   "id": "e81b0995",
   "metadata": {},
   "outputs": [],
   "source": [
    "## Changing Random Seed\n",
    "np.random.seed(42)"
   ]
  },
  {
   "cell_type": "code",
   "execution_count": 18,
   "id": "13de7174",
   "metadata": {},
   "outputs": [
    {
     "data": {
      "text/plain": [
       "array([[ 0.49671415, -0.1382643 ,  0.64768854,  1.52302986],\n",
       "       [-0.23415337, -0.23413696,  1.57921282,  0.76743473],\n",
       "       [-0.46947439,  0.54256004, -0.46341769, -0.46572975]])"
      ]
     },
     "execution_count": 18,
     "metadata": {},
     "output_type": "execute_result"
    }
   ],
   "source": [
    "np.random.randn(3, 4)"
   ]
  },
  {
   "cell_type": "markdown",
   "id": "5ca1e241",
   "metadata": {},
   "source": [
    "### viewing arrays and matrices"
   ]
  },
  {
   "cell_type": "code",
   "execution_count": 19,
   "id": "d0caeee1",
   "metadata": {},
   "outputs": [
    {
     "data": {
      "text/plain": [
       "array([1, 2, 3, 5, 6])"
      ]
     },
     "execution_count": 19,
     "metadata": {},
     "output_type": "execute_result"
    }
   ],
   "source": [
    "# unique elements in array\n",
    "np.unique(np.array([[1, 2, 3], [2, 1, 5], [5, 6, 3]]))"
   ]
  },
  {
   "cell_type": "code",
   "execution_count": 20,
   "id": "a131cc1c",
   "metadata": {},
   "outputs": [
    {
     "data": {
      "text/plain": [
       "array([[[1, 2],\n",
       "        [4, 5]],\n",
       "\n",
       "       [[5, 6],\n",
       "        [8, 0]]])"
      ]
     },
     "execution_count": 20,
     "metadata": {},
     "output_type": "execute_result"
    }
   ],
   "source": [
    "a3"
   ]
  },
  {
   "cell_type": "code",
   "execution_count": 21,
   "id": "44eeaacb",
   "metadata": {},
   "outputs": [
    {
     "data": {
      "text/plain": [
       "array([[5, 6],\n",
       "       [8, 0]])"
      ]
     },
     "execution_count": 21,
     "metadata": {},
     "output_type": "execute_result"
    }
   ],
   "source": [
    "a3[1]"
   ]
  },
  {
   "cell_type": "code",
   "execution_count": 22,
   "id": "685cb875",
   "metadata": {},
   "outputs": [
    {
     "data": {
      "text/plain": [
       "array([5, 6])"
      ]
     },
     "execution_count": 22,
     "metadata": {},
     "output_type": "execute_result"
    }
   ],
   "source": [
    "a3[1][0]"
   ]
  },
  {
   "cell_type": "code",
   "execution_count": 23,
   "id": "b9f60ffc",
   "metadata": {},
   "outputs": [
    {
     "data": {
      "text/plain": [
       "array([[2, 5],\n",
       "       [6, 0]])"
      ]
     },
     "execution_count": 23,
     "metadata": {},
     "output_type": "execute_result"
    }
   ],
   "source": [
    "# looping through all indices\n",
    "a3[:, :, 1]"
   ]
  },
  {
   "cell_type": "code",
   "execution_count": 24,
   "id": "1bf1e203",
   "metadata": {},
   "outputs": [
    {
     "data": {
      "text/plain": [
       "array([[1, 4],\n",
       "       [5, 8]])"
      ]
     },
     "execution_count": 24,
     "metadata": {},
     "output_type": "execute_result"
    }
   ],
   "source": [
    "a3[:, :, 0]"
   ]
  },
  {
   "cell_type": "code",
   "execution_count": 25,
   "id": "6f71182d",
   "metadata": {},
   "outputs": [],
   "source": [
    "a4 = np.random.randint(0, 99, size=(3, 4, 5, 2))"
   ]
  },
  {
   "cell_type": "code",
   "execution_count": 26,
   "id": "1ad7d2b1",
   "metadata": {},
   "outputs": [
    {
     "data": {
      "text/plain": [
       "array([[[75, 21, 48, 58, 91],\n",
       "        [79, 61, 46, 50, 63],\n",
       "        [50, 20, 38,  3, 59],\n",
       "        [ 8, 52, 83, 59, 43]],\n",
       "\n",
       "       [[46, 77, 35,  3,  5],\n",
       "        [ 3, 92, 17, 43, 73],\n",
       "        [13, 47, 71, 86, 39],\n",
       "        [79, 52, 25, 59, 28]]])"
      ]
     },
     "execution_count": 26,
     "metadata": {},
     "output_type": "execute_result"
    }
   ],
   "source": [
    "a4[:2, :, :, 0]"
   ]
  },
  {
   "cell_type": "markdown",
   "id": "f4b1418b",
   "metadata": {},
   "source": [
    "### Manipulation of Arrays"
   ]
  },
  {
   "cell_type": "markdown",
   "id": "c6fcb864",
   "metadata": {},
   "source": [
    "#### Arithmetic"
   ]
  },
  {
   "cell_type": "code",
   "execution_count": 27,
   "id": "55a46f16",
   "metadata": {},
   "outputs": [
    {
     "data": {
      "text/plain": [
       "(array([2, 3, 4]), array([1, 4, 5]))"
      ]
     },
     "execution_count": 27,
     "metadata": {},
     "output_type": "execute_result"
    }
   ],
   "source": [
    "a = np.array([2, 3, 4])\n",
    "b = np.array([1, 4, 5])\n",
    "a, b"
   ]
  },
  {
   "cell_type": "code",
   "execution_count": 28,
   "id": "21f302c4",
   "metadata": {},
   "outputs": [
    {
     "data": {
      "text/plain": [
       "array([3, 7, 9])"
      ]
     },
     "execution_count": 28,
     "metadata": {},
     "output_type": "execute_result"
    }
   ],
   "source": [
    "a + b"
   ]
  },
  {
   "cell_type": "code",
   "execution_count": 29,
   "id": "090e77d0",
   "metadata": {},
   "outputs": [
    {
     "data": {
      "text/plain": [
       "array([ 1, -1, -1])"
      ]
     },
     "execution_count": 29,
     "metadata": {},
     "output_type": "execute_result"
    }
   ],
   "source": [
    "a - b"
   ]
  },
  {
   "cell_type": "code",
   "execution_count": 30,
   "id": "4e8533c9",
   "metadata": {},
   "outputs": [
    {
     "data": {
      "text/plain": [
       "array([ 2, 12, 20])"
      ]
     },
     "execution_count": 30,
     "metadata": {},
     "output_type": "execute_result"
    }
   ],
   "source": [
    "a * b"
   ]
  },
  {
   "cell_type": "code",
   "execution_count": 31,
   "id": "456a6e00",
   "metadata": {},
   "outputs": [
    {
     "data": {
      "text/plain": [
       "array([2.  , 0.75, 0.8 ])"
      ]
     },
     "execution_count": 31,
     "metadata": {},
     "output_type": "execute_result"
    }
   ],
   "source": [
    "a / b"
   ]
  },
  {
   "cell_type": "code",
   "execution_count": 32,
   "id": "300edb1d",
   "metadata": {},
   "outputs": [
    {
     "data": {
      "text/plain": [
       "array([0, 3, 4])"
      ]
     },
     "execution_count": 32,
     "metadata": {},
     "output_type": "execute_result"
    }
   ],
   "source": [
    "a % b"
   ]
  },
  {
   "cell_type": "code",
   "execution_count": 33,
   "id": "feb983d9",
   "metadata": {},
   "outputs": [
    {
     "data": {
      "text/plain": [
       "array([   2,   81, 1024])"
      ]
     },
     "execution_count": 33,
     "metadata": {},
     "output_type": "execute_result"
    }
   ],
   "source": [
    "a ** b"
   ]
  },
  {
   "cell_type": "code",
   "execution_count": 34,
   "id": "0659c10c",
   "metadata": {},
   "outputs": [
    {
     "data": {
      "text/plain": [
       "array([2, 0, 0])"
      ]
     },
     "execution_count": 34,
     "metadata": {},
     "output_type": "execute_result"
    }
   ],
   "source": [
    "a // b"
   ]
  },
  {
   "cell_type": "code",
   "execution_count": 35,
   "id": "3956d847",
   "metadata": {},
   "outputs": [
    {
     "data": {
      "text/plain": [
       "array([  32,  243, 1024], dtype=int32)"
      ]
     },
     "execution_count": 35,
     "metadata": {},
     "output_type": "execute_result"
    }
   ],
   "source": [
    "a ** 5"
   ]
  },
  {
   "cell_type": "code",
   "execution_count": 36,
   "id": "0cc07be5",
   "metadata": {},
   "outputs": [
    {
     "data": {
      "text/plain": [
       "array([ 4,  9, 16])"
      ]
     },
     "execution_count": 36,
     "metadata": {},
     "output_type": "execute_result"
    }
   ],
   "source": [
    "np.square(a)"
   ]
  },
  {
   "cell_type": "code",
   "execution_count": 37,
   "id": "201efd17",
   "metadata": {},
   "outputs": [
    {
     "data": {
      "text/plain": [
       "array([6, 7, 8])"
      ]
     },
     "execution_count": 37,
     "metadata": {},
     "output_type": "execute_result"
    }
   ],
   "source": [
    "np.add(a, 4)"
   ]
  },
  {
   "cell_type": "code",
   "execution_count": 38,
   "id": "19a73d4f",
   "metadata": {},
   "outputs": [
    {
     "data": {
      "text/plain": [
       "array([0.        , 1.38629436, 1.60943791])"
      ]
     },
     "execution_count": 38,
     "metadata": {},
     "output_type": "execute_result"
    }
   ],
   "source": [
    "np.log(b)"
   ]
  },
  {
   "cell_type": "markdown",
   "id": "ce2e3eda",
   "metadata": {},
   "source": [
    "#### Aggregation"
   ]
  },
  {
   "cell_type": "code",
   "execution_count": 39,
   "id": "7d714b43",
   "metadata": {},
   "outputs": [
    {
     "data": {
      "text/plain": [
       "(9, 9)"
      ]
     },
     "execution_count": 39,
     "metadata": {},
     "output_type": "execute_result"
    }
   ],
   "source": [
    "# numpy methods should be used on ndarray datatypes and use python methods on python datatypes\n",
    "# even though they give same result but on long run it wouldn't be good\n",
    "np.sum(a), sum(a)"
   ]
  },
  {
   "cell_type": "code",
   "execution_count": 40,
   "id": "7ffee562",
   "metadata": {},
   "outputs": [],
   "source": [
    "big_array = np.random.random(size=(3000000))"
   ]
  },
  {
   "cell_type": "code",
   "execution_count": 41,
   "id": "022803e4",
   "metadata": {},
   "outputs": [
    {
     "data": {
      "text/plain": [
       "3000000"
      ]
     },
     "execution_count": 41,
     "metadata": {},
     "output_type": "execute_result"
    }
   ],
   "source": [
    "big_array.size"
   ]
  },
  {
   "cell_type": "code",
   "execution_count": 42,
   "id": "8719612a",
   "metadata": {},
   "outputs": [
    {
     "name": "stdout",
     "output_type": "stream",
     "text": [
      "646 ms ± 116 ms per loop (mean ± std. dev. of 7 runs, 1 loop each)\n"
     ]
    }
   ],
   "source": [
    "%timeit sum(big_array)\n"
   ]
  },
  {
   "cell_type": "code",
   "execution_count": 43,
   "id": "fe78c089",
   "metadata": {},
   "outputs": [
    {
     "name": "stdout",
     "output_type": "stream",
     "text": [
      "8.91 ms ± 391 µs per loop (mean ± std. dev. of 7 runs, 100 loops each)\n"
     ]
    }
   ],
   "source": [
    "%timeit np.sum(big_array)"
   ]
  },
  {
   "cell_type": "code",
   "execution_count": 44,
   "id": "800e3a17",
   "metadata": {},
   "outputs": [
    {
     "data": {
      "text/plain": [
       "0.4999780533002282"
      ]
     },
     "execution_count": 44,
     "metadata": {},
     "output_type": "execute_result"
    }
   ],
   "source": [
    "np.mean(big_array)"
   ]
  },
  {
   "cell_type": "code",
   "execution_count": 45,
   "id": "137e06a6",
   "metadata": {},
   "outputs": [
    {
     "data": {
      "text/plain": [
       "0.9999993822414859"
      ]
     },
     "execution_count": 45,
     "metadata": {},
     "output_type": "execute_result"
    }
   ],
   "source": [
    "np.max(big_array)"
   ]
  },
  {
   "cell_type": "code",
   "execution_count": 46,
   "id": "3fe82ed1",
   "metadata": {},
   "outputs": [
    {
     "data": {
      "text/plain": [
       "0.28861846842051186"
      ]
     },
     "execution_count": 46,
     "metadata": {},
     "output_type": "execute_result"
    }
   ],
   "source": [
    "np.std(big_array)"
   ]
  },
  {
   "cell_type": "code",
   "execution_count": 47,
   "id": "43fe7fe5",
   "metadata": {},
   "outputs": [
    {
     "data": {
      "text/plain": [
       "0.08330062031340202"
      ]
     },
     "execution_count": 47,
     "metadata": {},
     "output_type": "execute_result"
    }
   ],
   "source": [
    "np.var(big_array)"
   ]
  },
  {
   "cell_type": "markdown",
   "id": "b429bcaf",
   "metadata": {},
   "source": [
    "#### reshape or Transpose"
   ]
  },
  {
   "cell_type": "code",
   "execution_count": 48,
   "id": "dd68c0fd",
   "metadata": {},
   "outputs": [],
   "source": [
    "a = np.random.randint(0, 10, size=(2, 3))\n",
    "b = np.random.randint(0, 10, size=(2, 3, 3))"
   ]
  },
  {
   "cell_type": "code",
   "execution_count": 49,
   "id": "d4cafca6",
   "metadata": {},
   "outputs": [
    {
     "data": {
      "text/plain": [
       "(array([[8, 8, 9],\n",
       "        [0, 5, 9]]),\n",
       " array([[[3, 5, 1],\n",
       "         [9, 4, 3],\n",
       "         [2, 8, 6]],\n",
       " \n",
       "        [[3, 1, 6],\n",
       "         [1, 8, 7],\n",
       "         [6, 1, 1]]]))"
      ]
     },
     "execution_count": 49,
     "metadata": {},
     "output_type": "execute_result"
    }
   ],
   "source": [
    "a, b"
   ]
  },
  {
   "cell_type": "code",
   "execution_count": 50,
   "id": "1a243f9b",
   "metadata": {},
   "outputs": [
    {
     "ename": "ValueError",
     "evalue": "operands could not be broadcast together with shapes (2,3) (2,3,3) ",
     "output_type": "error",
     "traceback": [
      "\u001b[1;31m---------------------------------------------------------------------------\u001b[0m",
      "\u001b[1;31mValueError\u001b[0m                                Traceback (most recent call last)",
      "Input \u001b[1;32mIn [50]\u001b[0m, in \u001b[0;36m<cell line: 2>\u001b[1;34m()\u001b[0m\n\u001b[0;32m      1\u001b[0m \u001b[38;5;66;03m# this would work because of different shape\u001b[39;00m\n\u001b[1;32m----> 2\u001b[0m \u001b[43ma\u001b[49m\u001b[43m \u001b[49m\u001b[38;5;241;43m*\u001b[39;49m\u001b[43m \u001b[49m\u001b[43mb\u001b[49m\n",
      "\u001b[1;31mValueError\u001b[0m: operands could not be broadcast together with shapes (2,3) (2,3,3) "
     ]
    }
   ],
   "source": [
    "# this would work because of different shape\n",
    "a * b"
   ]
  },
  {
   "cell_type": "code",
   "execution_count": 51,
   "id": "28ebd642",
   "metadata": {},
   "outputs": [
    {
     "data": {
      "text/plain": [
       "array([[[24, 40,  8],\n",
       "        [72, 32, 24],\n",
       "        [18, 72, 54]],\n",
       "\n",
       "       [[ 0,  0,  0],\n",
       "        [ 5, 40, 35],\n",
       "        [54,  9,  9]]])"
      ]
     },
     "execution_count": 51,
     "metadata": {},
     "output_type": "execute_result"
    }
   ],
   "source": [
    "np.reshape(a, (2, 3, 1)) * b"
   ]
  },
  {
   "cell_type": "code",
   "execution_count": 52,
   "id": "3940afd6",
   "metadata": {},
   "outputs": [
    {
     "data": {
      "text/plain": [
       "array([[[3, 3],\n",
       "        [9, 1],\n",
       "        [2, 6]],\n",
       "\n",
       "       [[5, 1],\n",
       "        [4, 8],\n",
       "        [8, 1]],\n",
       "\n",
       "       [[1, 6],\n",
       "        [3, 7],\n",
       "        [6, 1]]])"
      ]
     },
     "execution_count": 52,
     "metadata": {},
     "output_type": "execute_result"
    }
   ],
   "source": [
    "c = np.transpose(b)\n",
    "c"
   ]
  },
  {
   "cell_type": "code",
   "execution_count": 53,
   "id": "11cab854",
   "metadata": {},
   "outputs": [
    {
     "data": {
      "text/plain": [
       "((3, 3, 2), (2, 3, 3))"
      ]
     },
     "execution_count": 53,
     "metadata": {},
     "output_type": "execute_result"
    }
   ],
   "source": [
    "c.shape, b.shape"
   ]
  },
  {
   "cell_type": "code",
   "execution_count": 54,
   "id": "68f6b5b6",
   "metadata": {},
   "outputs": [
    {
     "data": {
      "text/plain": [
       "array([[8, 0],\n",
       "       [8, 5],\n",
       "       [9, 9]])"
      ]
     },
     "execution_count": 54,
     "metadata": {},
     "output_type": "execute_result"
    }
   ],
   "source": [
    "# or simply use Property of array to see transpose\n",
    "a.T"
   ]
  },
  {
   "cell_type": "markdown",
   "id": "8a003787",
   "metadata": {},
   "source": [
    "### Dot Product"
   ]
  },
  {
   "cell_type": "code",
   "execution_count": 56,
   "id": "a7aa1b20",
   "metadata": {},
   "outputs": [],
   "source": [
    "np.random.seed(42)\n",
    "mat1 = np.random.randint(10, size=(5, 3))\n",
    "mat2 = np.random.randint(10, size=(5, 3))"
   ]
  },
  {
   "cell_type": "code",
   "execution_count": 58,
   "id": "9fbb2383",
   "metadata": {},
   "outputs": [
    {
     "data": {
      "text/plain": [
       "array([[24,  3, 49],\n",
       "       [20,  6, 36],\n",
       "       [ 0, 54, 35],\n",
       "       [32,  0, 63],\n",
       "       [14, 12, 15]])"
      ]
     },
     "execution_count": 58,
     "metadata": {},
     "output_type": "execute_result"
    }
   ],
   "source": [
    "# this is element-wise multiplication of vectors\n",
    "mat1 * mat2"
   ]
  },
  {
   "cell_type": "code",
   "execution_count": 60,
   "id": "4b4f43a0",
   "metadata": {},
   "outputs": [
    {
     "data": {
      "text/plain": [
       "array([[ 76,  61,  62, 111,  51],\n",
       "       [ 85,  62,  99, 113,  71],\n",
       "       [ 63,  44,  89,  79,  61],\n",
       "       [ 68,  51,  62,  95,  47],\n",
       "       [ 65,  57,  43, 101,  41]])"
      ]
     },
     "execution_count": 60,
     "metadata": {},
     "output_type": "execute_result"
    }
   ],
   "source": [
    "# Dot Product\n",
    "np.dot(mat1, mat2.T)"
   ]
  },
  {
   "cell_type": "markdown",
   "id": "de49aade",
   "metadata": {},
   "source": [
    "### Comparison Operator"
   ]
  },
  {
   "cell_type": "code",
   "execution_count": 62,
   "id": "2e457d7d",
   "metadata": {},
   "outputs": [],
   "source": [
    "a1 = np.array([[1, 2], \n",
    "               [4, 3]])\n",
    "a2 = np.array([[3, 1], \n",
    "               [5, 2]])"
   ]
  },
  {
   "cell_type": "code",
   "execution_count": 63,
   "id": "9a581af2",
   "metadata": {},
   "outputs": [
    {
     "data": {
      "text/plain": [
       "array([[False,  True],\n",
       "       [False,  True]])"
      ]
     },
     "execution_count": 63,
     "metadata": {},
     "output_type": "execute_result"
    }
   ],
   "source": [
    "a1 > a2"
   ]
  },
  {
   "cell_type": "code",
   "execution_count": 64,
   "id": "26f01092",
   "metadata": {},
   "outputs": [
    {
     "data": {
      "text/plain": [
       "array([[ True, False],\n",
       "       [ True, False]])"
      ]
     },
     "execution_count": 64,
     "metadata": {},
     "output_type": "execute_result"
    }
   ],
   "source": [
    "a1 <= a2"
   ]
  },
  {
   "cell_type": "code",
   "execution_count": 65,
   "id": "96e37b61",
   "metadata": {},
   "outputs": [
    {
     "data": {
      "text/plain": [
       "array([[False, False],\n",
       "       [ True,  True]])"
      ]
     },
     "execution_count": 65,
     "metadata": {},
     "output_type": "execute_result"
    }
   ],
   "source": [
    "a1 > 2"
   ]
  },
  {
   "cell_type": "code",
   "execution_count": 66,
   "id": "8b724354",
   "metadata": {},
   "outputs": [
    {
     "data": {
      "text/plain": [
       "array([[ True,  True],\n",
       "       [False,  True]])"
      ]
     },
     "execution_count": 66,
     "metadata": {},
     "output_type": "execute_result"
    }
   ],
   "source": [
    "a2 <= 3"
   ]
  },
  {
   "cell_type": "code",
   "execution_count": 67,
   "id": "7b8bbc84",
   "metadata": {},
   "outputs": [
    {
     "data": {
      "text/plain": [
       "array([[False, False],\n",
       "       [False, False]])"
      ]
     },
     "execution_count": 67,
     "metadata": {},
     "output_type": "execute_result"
    }
   ],
   "source": [
    "a1 == a2"
   ]
  },
  {
   "cell_type": "markdown",
   "id": "e914722c",
   "metadata": {},
   "source": [
    "### Sorting Array"
   ]
  },
  {
   "cell_type": "code",
   "execution_count": 68,
   "id": "67e92d03",
   "metadata": {},
   "outputs": [
    {
     "data": {
      "text/plain": [
       "array([[8, 2, 4, 2, 6],\n",
       "       [4, 8, 6, 1, 3],\n",
       "       [8, 1, 9, 8, 9]])"
      ]
     },
     "execution_count": 68,
     "metadata": {},
     "output_type": "execute_result"
    }
   ],
   "source": [
    "ran_arr = np.random.randint(10, size=(3, 5))\n",
    "ran_arr"
   ]
  },
  {
   "cell_type": "code",
   "execution_count": 69,
   "id": "036dbe94",
   "metadata": {},
   "outputs": [
    {
     "data": {
      "text/plain": [
       "array([[2, 2, 4, 6, 8],\n",
       "       [1, 3, 4, 6, 8],\n",
       "       [1, 8, 8, 9, 9]])"
      ]
     },
     "execution_count": 69,
     "metadata": {},
     "output_type": "execute_result"
    }
   ],
   "source": [
    "np.sort(ran_arr)"
   ]
  },
  {
   "cell_type": "code",
   "execution_count": 71,
   "id": "42389d43",
   "metadata": {},
   "outputs": [
    {
     "data": {
      "text/plain": [
       "array([[1, 3, 2, 4, 0],\n",
       "       [3, 4, 0, 2, 1],\n",
       "       [1, 0, 3, 2, 4]], dtype=int64)"
      ]
     },
     "execution_count": 71,
     "metadata": {},
     "output_type": "execute_result"
    }
   ],
   "source": [
    "# return sorted indices array\n",
    "np.argsort(ran_arr)"
   ]
  },
  {
   "cell_type": "code",
   "execution_count": 78,
   "id": "17a4062b",
   "metadata": {},
   "outputs": [
    {
     "data": {
      "text/plain": [
       "array([1, 2, 0, 1, 1], dtype=int64)"
      ]
     },
     "execution_count": 78,
     "metadata": {},
     "output_type": "execute_result"
    }
   ],
   "source": [
    "# return indices of min no. in each column\n",
    "np.argmin(ran_arr, axis=0)"
   ]
  },
  {
   "cell_type": "code",
   "execution_count": 79,
   "id": "c6fc934a",
   "metadata": {},
   "outputs": [
    {
     "data": {
      "text/plain": [
       "array([0, 1, 2], dtype=int64)"
      ]
     },
     "execution_count": 79,
     "metadata": {},
     "output_type": "execute_result"
    }
   ],
   "source": [
    "# return indices of max number in each row\n",
    "np.argmax(ran_arr, axis=1)"
   ]
  },
  {
   "cell_type": "markdown",
   "id": "8f2305a1",
   "metadata": {},
   "source": [
    "## Convert Image into Numpy Array"
   ]
  },
  {
   "cell_type": "markdown",
   "id": "964e7131",
   "metadata": {},
   "source": [
    "<img src=\"sample_image.jpg\">"
   ]
  },
  {
   "cell_type": "code",
   "execution_count": 81,
   "id": "6e5b62bf",
   "metadata": {},
   "outputs": [],
   "source": [
    "from matplotlib import image as mpimg"
   ]
  },
  {
   "cell_type": "code",
   "execution_count": 83,
   "id": "ad10e62e",
   "metadata": {},
   "outputs": [],
   "source": [
    "img = mpimg.imread(\"sample_image.jpg\")"
   ]
  },
  {
   "cell_type": "code",
   "execution_count": 84,
   "id": "d9035f45",
   "metadata": {},
   "outputs": [
    {
     "data": {
      "text/plain": [
       "(480, 771, 3)"
      ]
     },
     "execution_count": 84,
     "metadata": {},
     "output_type": "execute_result"
    }
   ],
   "source": [
    "img.shape"
   ]
  },
  {
   "cell_type": "code",
   "execution_count": 88,
   "id": "13bdf006",
   "metadata": {},
   "outputs": [
    {
     "data": {
      "text/plain": [
       "array([[[10, 10, 22],\n",
       "        [11, 11, 23],\n",
       "        [14, 12, 25],\n",
       "        ...,\n",
       "        [ 9, 12, 29],\n",
       "        [ 9, 12, 29],\n",
       "        [ 9, 12, 29]],\n",
       "\n",
       "       [[ 9,  9, 21],\n",
       "        [11, 11, 23],\n",
       "        [15, 13, 26],\n",
       "        ...,\n",
       "        [10, 13, 30],\n",
       "        [10, 13, 30],\n",
       "        [10, 13, 30]]], dtype=uint8)"
      ]
     },
     "execution_count": 88,
     "metadata": {},
     "output_type": "execute_result"
    }
   ],
   "source": [
    "img[:2]"
   ]
  },
  {
   "cell_type": "code",
   "execution_count": 89,
   "id": "f3f007ff",
   "metadata": {},
   "outputs": [
    {
     "data": {
      "text/plain": [
       "3"
      ]
     },
     "execution_count": 89,
     "metadata": {},
     "output_type": "execute_result"
    }
   ],
   "source": [
    "img.ndim"
   ]
  },
  {
   "cell_type": "code",
   "execution_count": null,
   "id": "98315613",
   "metadata": {},
   "outputs": [],
   "source": []
  }
 ],
 "metadata": {
  "kernelspec": {
   "display_name": "Python 3 (ipykernel)",
   "language": "python",
   "name": "python3"
  },
  "language_info": {
   "codemirror_mode": {
    "name": "ipython",
    "version": 3
   },
   "file_extension": ".py",
   "mimetype": "text/x-python",
   "name": "python",
   "nbconvert_exporter": "python",
   "pygments_lexer": "ipython3",
   "version": "3.10.4"
  }
 },
 "nbformat": 4,
 "nbformat_minor": 5
}
