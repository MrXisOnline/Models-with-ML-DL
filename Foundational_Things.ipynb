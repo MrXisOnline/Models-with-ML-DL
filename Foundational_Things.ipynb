{
  "nbformat": 4,
  "nbformat_minor": 0,
  "metadata": {
    "colab": {
      "name": "Foundational_Things.ipynb",
      "provenance": [],
      "authorship_tag": "ABX9TyNbC/QdjNuBQp2xPE0gKNUU",
      "include_colab_link": true
    },
    "kernelspec": {
      "name": "python3",
      "display_name": "Python 3"
    },
    "language_info": {
      "name": "python"
    }
  },
  "cells": [
    {
      "cell_type": "markdown",
      "metadata": {
        "id": "view-in-github",
        "colab_type": "text"
      },
      "source": [
        "<a href=\"https://colab.research.google.com/github/MrXisOnline/Models-with-ML-DL/blob/master/Foundational_Things.ipynb\" target=\"_parent\"><img src=\"https://colab.research.google.com/assets/colab-badge.svg\" alt=\"Open In Colab\"/></a>"
      ]
    },
    {
      "cell_type": "markdown",
      "source": [
        "### Functions"
      ],
      "metadata": {
        "id": "w4UCgwb0eR4I"
      }
    },
    {
      "cell_type": "code",
      "source": [
        "import numpy as np"
      ],
      "metadata": {
        "id": "MnMQFVMhe4wM"
      },
      "execution_count": 1,
      "outputs": []
    },
    {
      "cell_type": "code",
      "source": [
        "a = np.array([5, 3, 8])\n",
        "b = np.array([4, 2, 7])\n",
        "print(\"a + b -> {}\".format(a+b))\n",
        "print(\"a * b -> {}\".format(a*b))"
      ],
      "metadata": {
        "colab": {
          "base_uri": "https://localhost:8080/"
        },
        "id": "LziBU4K4e8cN",
        "outputId": "6e347266-0c3c-4e37-ae7a-76a81d296618"
      },
      "execution_count": 3,
      "outputs": [
        {
          "output_type": "stream",
          "name": "stdout",
          "text": [
            "a + b -> [ 9  5 15]\n",
            "a * b -> [20  6 56]\n"
          ]
        }
      ]
    },
    {
      "cell_type": "code",
      "source": [
        "a = np.array([[1, 2], [3, 4]])\n",
        "print(a)\n",
        "print(\"sum of a about row, {}\".format(a.sum(axis=0)))\n",
        "print(\"sum of a about column, {}\".format(a.sum(axis=1)))"
      ],
      "metadata": {
        "colab": {
          "base_uri": "https://localhost:8080/"
        },
        "id": "msMuIc5NfbJP",
        "outputId": "d3896c91-6282-4322-8c96-9c3ad852c9ad"
      },
      "execution_count": 5,
      "outputs": [
        {
          "output_type": "stream",
          "name": "stdout",
          "text": [
            "[[1 2]\n",
            " [3 4]]\n",
            "sum of a about row, [4 6]\n",
            "sum of a about column, [3 7]\n"
          ]
        }
      ]
    },
    {
      "cell_type": "code",
      "source": [
        "def square(x: np.ndarray) -> np.ndarray:\n",
        "    return np.power(x, 2)\n",
        "\n",
        "def LeakyReLU(x: np.ndarray) -> np.ndarray:\n",
        "    return np.maximum(0.2 * x, x)"
      ],
      "metadata": {
        "id": "RoayTdbJgXDJ"
      },
      "execution_count": 9,
      "outputs": []
    },
    {
      "cell_type": "code",
      "source": [
        "square(np.array([3, 2])), LeakyReLU(np.array([3, 2]))"
      ],
      "metadata": {
        "colab": {
          "base_uri": "https://localhost:8080/"
        },
        "id": "Dl0CtYfoio1e",
        "outputId": "938d1e44-c553-4774-b477-58f05b2c8410"
      },
      "execution_count": 11,
      "outputs": [
        {
          "output_type": "execute_result",
          "data": {
            "text/plain": [
              "(array([9, 4]), array([3., 2.]))"
            ]
          },
          "metadata": {},
          "execution_count": 11
        }
      ]
    },
    {
      "cell_type": "markdown",
      "source": [
        "### Derivatives"
      ],
      "metadata": {
        "id": "NjQJyxcRjD8G"
      }
    },
    {
      "cell_type": "code",
      "source": [
        "from typing import Callable\n",
        "\n",
        "def deriv(func: Callable[[np.ndarray], np.ndarray], \n",
        "          input_: np.ndarray, \n",
        "          delta: float = 1e-6):\n",
        "    return (func(input_+ delta) - func(input_ - delta))/(2*delta)"
      ],
      "metadata": {
        "id": "O4Be0W_sle5-"
      },
      "execution_count": 37,
      "outputs": []
    },
    {
      "cell_type": "code",
      "source": [
        "deriv(square, np.array([2, 5]))"
      ],
      "metadata": {
        "colab": {
          "base_uri": "https://localhost:8080/"
        },
        "id": "h1uZMLGPme2i",
        "outputId": "1f65a64d-c06d-410d-add2-9d60ba195bc5"
      },
      "execution_count": 38,
      "outputs": [
        {
          "output_type": "execute_result",
          "data": {
            "text/plain": [
              "array([ 4., 10.])"
            ]
          },
          "metadata": {},
          "execution_count": 38
        }
      ]
    },
    {
      "cell_type": "markdown",
      "source": [
        "### Nested Functions"
      ],
      "metadata": {
        "id": "bZj5D4VFm7Dz"
      }
    },
    {
      "cell_type": "code",
      "source": [
        "from typing import List\n",
        "Array_Function = Callable[[np.ndarray], np.ndarray]\n",
        "Chain = List[Array_Function]\n",
        "\n",
        "def chain_length_2(chain: Chain, \n",
        "                   input_: np.ndarray) -> np.ndarray:\n",
        "    func0 = chain[0]\n",
        "    func1 = chain[1]\n",
        "    return func1(func0(input_))"
      ],
      "metadata": {
        "id": "rD12SZj2pVcw"
      },
      "execution_count": 39,
      "outputs": []
    },
    {
      "cell_type": "markdown",
      "source": [
        "### Chain Rule"
      ],
      "metadata": {
        "id": "daeLCxvgqUtx"
      }
    },
    {
      "cell_type": "code",
      "source": [
        "from numpy import ndarray"
      ],
      "metadata": {
        "id": "L_Xmm0xUwAM6"
      },
      "execution_count": 40,
      "outputs": []
    },
    {
      "cell_type": "code",
      "source": [
        "def sigmoid(x: ndarray):\n",
        "    return 1 / 1 + np.exp(-x)"
      ],
      "metadata": {
        "id": "9mZ1yIhKqZ1M"
      },
      "execution_count": 41,
      "outputs": []
    },
    {
      "cell_type": "code",
      "source": [
        "def chain_deriv_2(chain: Chain, \n",
        "                  input_: ndarray):\n",
        "    f1 = chain[0]\n",
        "    f2 = chain[1]\n",
        "    f1_of_x = f1(input_)\n",
        "    df1dx = deriv(f1, input_)\n",
        "    df2dx = deriv(f2, f1_of_x)\n",
        "    return df2dx * df1dx"
      ],
      "metadata": {
        "id": "CfJzsCVxwM8s"
      },
      "execution_count": 50,
      "outputs": []
    },
    {
      "cell_type": "code",
      "source": [
        "import matplotlib.pyplot as plt\n",
        "\n",
        "def plot_chain(chain: Chain, input_range):\n",
        "    previous = chain[0](input_range)\n",
        "    for i in range(1, len(chain)):\n",
        "        previous = chain[i](previous)\n",
        "    plt.plot(previous)"
      ],
      "metadata": {
        "id": "7QySPDMjx6fh"
      },
      "execution_count": 83,
      "outputs": []
    },
    {
      "cell_type": "code",
      "source": [
        "input_range = np.arange(-3, 3, 0.01)\n",
        "chain1 = [sigmoid, square]\n",
        "chain2 = [square, sigmoid]\n",
        "plot_chain(chain1, input_range)\n",
        "plt.plot(chain_deriv_2(chain1, input_range))\n",
        "plt.show()\n",
        "plot_chain(chain2, input_range)\n",
        "plt.plot(chain_deriv_2(chain2, input_range))"
      ],
      "metadata": {
        "colab": {
          "base_uri": "https://localhost:8080/",
          "height": 530
        },
        "id": "fLFhitmxxJLr",
        "outputId": "9f00f0c0-5ff2-457d-b138-34d324a717bb"
      },
      "execution_count": 85,
      "outputs": [
        {
          "output_type": "display_data",
          "data": {
            "text/plain": [
              "<Figure size 432x288 with 1 Axes>"
            ],
            "image/png": "[encoded data removed]"
          },
          "metadata": {
            "needs_background": "light"
          }
        },
        {
          "output_type": "execute_result",
          "data": {
            "text/plain": [
              "[<matplotlib.lines.Line2D at 0x7f0f3395b4d0>]"
            ]
          },
          "metadata": {},
          "execution_count": 85
        },
        {
          "output_type": "display_data",
          "data": {
            "text/plain": [
              "<Figure size 432x288 with 1 Axes>"
            ],
            "image/png": "[encoded data removed]"
          },
          "metadata": {
            "needs_background": "light"
          }
        }
      ]
    },
    {
      "cell_type": "markdown",
      "source": [
        "### Generalized Chain Rule"
      ],
      "metadata": {
        "id": "_wImoOyxyPTc"
      }
    },
    {
      "cell_type": "code",
      "source": [
        "def chain_rule(chain: Chain, input_range: ndarray) -> ndarray:\n",
        "    assert len(chain) > 1, \"Chain needs to have atleast 2 functions\"\n",
        "    previous_result = deriv(chain[0], input_range)\n",
        "    previous_chain = chain[0](input_range)\n",
        "    for i in range(1, len(chain)):\n",
        "        previous_result = deriv(chain[i], previous_chain) * previous_result\n",
        "        previous_chain = chain[i](previous_chain)\n",
        "    return previous_result"
      ],
      "metadata": {
        "id": "_hfPufXz1rsi"
      },
      "execution_count": 77,
      "outputs": []
    },
    {
      "cell_type": "code",
      "source": [
        "plot_chain([LeakyReLU, sigmoid, square], input_range)\n",
        "plt.plot(chain_rule([LeakyReLU, sigmoid, square], input_range))\n",
        "# plt.plot(chain_rule(chain2, input_range))"
      ],
      "metadata": {
        "colab": {
          "base_uri": "https://localhost:8080/",
          "height": 282
        },
        "id": "mlSJMMKE26YW",
        "outputId": "963da2ae-6be8-45cf-f1e9-71dda59d7d32"
      },
      "execution_count": 86,
      "outputs": [
        {
          "output_type": "execute_result",
          "data": {
            "text/plain": [
              "[<matplotlib.lines.Line2D at 0x7f0f33920b50>]"
            ]
          },
          "metadata": {},
          "execution_count": 86
        },
        {
          "output_type": "display_data",
          "data": {
            "text/plain": [
              "<Figure size 432x288 with 1 Axes>"
            ],
            "image/png": "[encoded data removed]"
          },
          "metadata": {
            "needs_background": "light"
          }
        }
      ]
    },
    {
      "cell_type": "markdown",
      "source": [
        "### Function with multiple inputs"
      ],
      "metadata": {
        "id": "RkSOsL9P3CrV"
      }
    },
    {
      "cell_type": "code",
      "source": [
        ""
      ],
      "metadata": {
        "id": "iNcaNG6KKPHO"
      },
      "execution_count": null,
      "outputs": []
    }
  ]
}